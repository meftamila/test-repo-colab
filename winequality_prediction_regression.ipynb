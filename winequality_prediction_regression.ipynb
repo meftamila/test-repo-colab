{
  "metadata": {
    "kernelspec": {
      "language": "python",
      "display_name": "Python 3",
      "name": "python3"
    },
    "language_info": {
      "name": "python",
      "version": "3.11.13",
      "mimetype": "text/x-python",
      "codemirror_mode": {
        "name": "ipython",
        "version": 3
      },
      "pygments_lexer": "ipython3",
      "nbconvert_exporter": "python",
      "file_extension": ".py"
    },
    "kaggle": {
      "accelerator": "none",
      "dataSources": [
        {
          "sourceId": 3047725,
          "sourceType": "datasetVersion",
          "datasetId": 1866301
        }
      ],
      "dockerImageVersionId": 31089,
      "isInternetEnabled": false,
      "language": "python",
      "sourceType": "notebook",
      "isGpuEnabled": false
    },
    "colab": {
      "name": "winequality-prediction-regression",
      "provenance": [],
      "include_colab_link": true
    }
  },
  "nbformat_minor": 0,
  "nbformat": 4,
  "cells": [
    {
      "cell_type": "markdown",
      "metadata": {
        "id": "view-in-github",
        "colab_type": "text"
      },
      "source": [
        "<a href=\"https://colab.research.google.com/github/meftamila/test-repo-colab/blob/main/winequality_prediction_regression.ipynb\" target=\"_parent\"><img src=\"https://colab.research.google.com/assets/colab-badge.svg\" alt=\"Open In Colab\"/></a>"
      ]
    },
    {
      "source": [
        "# IMPORTANT: RUN THIS CELL IN ORDER TO IMPORT YOUR KAGGLE DATA SOURCES,\n",
        "# THEN FEEL FREE TO DELETE THIS CELL.\n",
        "# NOTE: THIS NOTEBOOK ENVIRONMENT DIFFERS FROM KAGGLE'S PYTHON\n",
        "# ENVIRONMENT SO THERE MAY BE MISSING LIBRARIES USED BY YOUR\n",
        "# NOTEBOOK.\n",
        "import kagglehub\n",
        "yasserh_wine_quality_dataset_path = kagglehub.dataset_download('yasserh/wine-quality-dataset')\n",
        "\n",
        "print('Data source import complete.')\n"
      ],
      "metadata": {
        "id": "qkkdgb0JyTTC"
      },
      "cell_type": "code",
      "outputs": [],
      "execution_count": null
    },
    {
      "cell_type": "code",
      "source": [
        "# This Python 3 environment comes with many helpful analytics libraries installed\n",
        "# It is defined by the kaggle/python Docker image: https://github.com/kaggle/docker-python\n",
        "# For example, here's several helpful packages to load\n",
        "\n",
        "import numpy as np # linear algebra\n",
        "import pandas as pd # data processing, CSV file I/O (e.g. pd.read_csv)\n",
        "\n",
        "# Input data files are available in the read-only \"../input/\" directory\n",
        "# For example, running this (by clicking run or pressing Shift+Enter) will list all files under the input directory\n",
        "\n",
        "import os\n",
        "for dirname, _, filenames in os.walk('/kaggle/input'):\n",
        "    for filename in filenames:\n",
        "        print(os.path.join(dirname, filename))\n",
        "\n",
        "# You can write up to 20GB to the current directory (/kaggle/working/) that gets preserved as output when you create a version using \"Save & Run All\"\n",
        "# You can also write temporary files to /kaggle/temp/, but they won't be saved outside of the current session"
      ],
      "metadata": {
        "_uuid": "8f2839f25d086af736a60e9eeb907d3b93b6e0e5",
        "_cell_guid": "b1076dfc-b9ad-4769-8c92-a6c4dae69d19",
        "trusted": true,
        "execution": {
          "iopub.status.busy": "2025-09-29T12:58:31.790379Z",
          "iopub.execute_input": "2025-09-29T12:58:31.791027Z",
          "iopub.status.idle": "2025-09-29T12:58:32.125788Z",
          "shell.execute_reply.started": "2025-09-29T12:58:31.791Z",
          "shell.execute_reply": "2025-09-29T12:58:32.12488Z"
        },
        "id": "wgbuDpoSyTTE",
        "outputId": "3d57e60e-3cd4-452b-eba3-e1a4b13f6df7"
      },
      "outputs": [
        {
          "name": "stdout",
          "text": "/kaggle/input/wine-quality-dataset/WineQT.csv\n",
          "output_type": "stream"
        }
      ],
      "execution_count": null
    },
    {
      "cell_type": "code",
      "source": [
        "from sklearn.datasets import load_wine\n",
        "\n",
        "X, y = load_wine(return_X_y=True)\n"
      ],
      "metadata": {
        "trusted": true,
        "execution": {
          "iopub.status.busy": "2025-09-29T13:09:46.99624Z",
          "iopub.execute_input": "2025-09-29T13:09:46.99669Z",
          "iopub.status.idle": "2025-09-29T13:09:47.00316Z",
          "shell.execute_reply.started": "2025-09-29T13:09:46.996666Z",
          "shell.execute_reply": "2025-09-29T13:09:47.002371Z"
        },
        "id": "TYu2ibCDyTTF"
      },
      "outputs": [],
      "execution_count": null
    },
    {
      "cell_type": "code",
      "source": [
        "\n",
        "from sklearn.linear_model import LinearRegression,Ridge,Lasso,ElasticNet\n",
        "from sklearn.model_selection import train_test_split\n",
        "from sklearn.metrics import r2_score"
      ],
      "metadata": {
        "trusted": true,
        "execution": {
          "iopub.status.busy": "2025-09-29T13:10:58.364478Z",
          "iopub.execute_input": "2025-09-29T13:10:58.364778Z",
          "iopub.status.idle": "2025-09-29T13:10:58.590668Z",
          "shell.execute_reply.started": "2025-09-29T13:10:58.364755Z",
          "shell.execute_reply": "2025-09-29T13:10:58.589773Z"
        },
        "id": "xr2xFL4CyTTF"
      },
      "outputs": [],
      "execution_count": null
    },
    {
      "cell_type": "code",
      "source": [
        "X_train,X_test,y_train,y_test = train_test_split(X,y,test_size=0.2,random_state=2)"
      ],
      "metadata": {
        "trusted": true,
        "execution": {
          "iopub.status.busy": "2025-09-29T13:11:06.756969Z",
          "iopub.execute_input": "2025-09-29T13:11:06.757275Z",
          "iopub.status.idle": "2025-09-29T13:11:06.762886Z",
          "shell.execute_reply.started": "2025-09-29T13:11:06.757255Z",
          "shell.execute_reply": "2025-09-29T13:11:06.761772Z"
        },
        "id": "ACQxm2iXyTTF"
      },
      "outputs": [],
      "execution_count": null
    },
    {
      "cell_type": "code",
      "source": [
        "# Linear Regression\n",
        "reg = LinearRegression()\n",
        "reg.fit(X_train,y_train)\n",
        "y_pred = reg.predict(X_test)\n",
        "r2_score(y_test,y_pred)"
      ],
      "metadata": {
        "trusted": true,
        "execution": {
          "iopub.status.busy": "2025-09-29T13:11:28.96827Z",
          "iopub.execute_input": "2025-09-29T13:11:28.968868Z",
          "iopub.status.idle": "2025-09-29T13:11:29.010823Z",
          "shell.execute_reply.started": "2025-09-29T13:11:28.968841Z",
          "shell.execute_reply": "2025-09-29T13:11:29.009974Z"
        },
        "id": "xe4gGHtFyTTG",
        "outputId": "33271995-a1ca-4562-c23c-f286de093418"
      },
      "outputs": [
        {
          "execution_count": 14,
          "output_type": "execute_result",
          "data": {
            "text/plain": "0.895348517922006"
          },
          "metadata": {}
        }
      ],
      "execution_count": null
    },
    {
      "cell_type": "code",
      "source": [
        "# Ridge\n",
        "reg = Ridge(alpha=0.1)\n",
        "reg.fit(X_train,y_train)\n",
        "y_pred = reg.predict(X_test)\n",
        "r2_score(y_test,y_pred)"
      ],
      "metadata": {
        "trusted": true,
        "execution": {
          "iopub.status.busy": "2025-09-29T13:14:55.318881Z",
          "iopub.execute_input": "2025-09-29T13:14:55.319194Z",
          "iopub.status.idle": "2025-09-29T13:14:55.327675Z",
          "shell.execute_reply.started": "2025-09-29T13:14:55.31917Z",
          "shell.execute_reply": "2025-09-29T13:14:55.326761Z"
        },
        "id": "kCfApMf6yTTG",
        "outputId": "39b5d3e5-af19-4b39-b0c4-2222596978cc"
      },
      "outputs": [
        {
          "execution_count": 23,
          "output_type": "execute_result",
          "data": {
            "text/plain": "0.8953601079153783"
          },
          "metadata": {}
        }
      ],
      "execution_count": null
    },
    {
      "cell_type": "code",
      "source": [
        "# Lasso\n",
        "reg = Lasso(alpha=0.001)\n",
        "reg.fit(X_train,y_train)\n",
        "y_pred = reg.predict(X_test)\n",
        "r2_score(y_test,y_pred)"
      ],
      "metadata": {
        "trusted": true,
        "execution": {
          "iopub.status.busy": "2025-09-29T13:15:59.682796Z",
          "iopub.execute_input": "2025-09-29T13:15:59.683101Z",
          "iopub.status.idle": "2025-09-29T13:15:59.691171Z",
          "shell.execute_reply.started": "2025-09-29T13:15:59.683077Z",
          "shell.execute_reply": "2025-09-29T13:15:59.690415Z"
        },
        "id": "G198cBVVyTTG",
        "outputId": "ef465173-dc70-425b-dd1d-0e7b8f13d10a"
      },
      "outputs": [
        {
          "execution_count": 29,
          "output_type": "execute_result",
          "data": {
            "text/plain": "0.8945101796486845"
          },
          "metadata": {}
        }
      ],
      "execution_count": null
    },
    {
      "cell_type": "code",
      "source": [
        "# ElasticNet\n",
        "reg = ElasticNet(alpha=0.005,l1_ratio=0.09)\n",
        "reg.fit(X_train,y_train)\n",
        "y_pred = reg.predict(X_test)\n",
        "r2_score(y_test,y_pred)"
      ],
      "metadata": {
        "trusted": true,
        "execution": {
          "iopub.status.busy": "2025-09-29T13:17:15.289141Z",
          "iopub.execute_input": "2025-09-29T13:17:15.289477Z",
          "iopub.status.idle": "2025-09-29T13:17:15.298402Z",
          "shell.execute_reply.started": "2025-09-29T13:17:15.289426Z",
          "shell.execute_reply": "2025-09-29T13:17:15.2976Z"
        },
        "id": "TAsdgrj1yTTG",
        "outputId": "d715b163-33cc-413d-eada-5715f66d443e"
      },
      "outputs": [
        {
          "execution_count": 36,
          "output_type": "execute_result",
          "data": {
            "text/plain": "0.8950813774684574"
          },
          "metadata": {}
        }
      ],
      "execution_count": null
    },
    {
      "cell_type": "code",
      "source": [],
      "metadata": {
        "trusted": true,
        "id": "O7Z_TcoNyTTG"
      },
      "outputs": [],
      "execution_count": null
    }
  ]
}